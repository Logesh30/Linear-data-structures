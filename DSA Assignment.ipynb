{
 "cells": [
  {
   "cell_type": "code",
   "execution_count": 1,
   "id": "6bc3a7d1",
   "metadata": {},
   "outputs": [
    {
     "name": "stdout",
     "output_type": "stream",
     "text": [
      "2\n"
     ]
    }
   ],
   "source": [
    "# Q1. Write a program to find all pairs of an integer array whose sum is equal to a given number?\n",
    "def sum_find(sum,n,array):\n",
    "    \n",
    "    count=0\n",
    "    \n",
    "    for i in range(0,n):\n",
    "     \n",
    "        for j in range(i+1,n):\n",
    "        \n",
    "            if array[i] + array[j] == sum:\n",
    "                count+=1\n",
    "\n",
    "    return count\n",
    "\n",
    "\n",
    "array = [8,5,7,6,-1,3,1,4]            \n",
    "sum = 7\n",
    "n=len(array)\n",
    "print(sum_find(n,sum,array))\n"
   ]
  },
  {
   "cell_type": "code",
   "execution_count": 10,
   "id": "51517c36",
   "metadata": {},
   "outputs": [
    {
     "data": {
      "text/plain": [
       "[85, 4, 5, 84, 7, 10, 5]"
      ]
     },
     "execution_count": 10,
     "metadata": {},
     "output_type": "execute_result"
    }
   ],
   "source": [
    "#Q2. Write a program to reverse an array in place? In place means you cannot create a new array. You have to update the original array.\n",
    "def reverse_array(arr):\n",
    "    arr.reverse()\n",
    "    return arr\n",
    "A = [5,10,7,84,5,4,85]   \n",
    "reverse_array(A)"
   ]
  },
  {
   "cell_type": "code",
   "execution_count": 11,
   "id": "4ab4c0ba",
   "metadata": {},
   "outputs": [
    {
     "data": {
      "text/plain": [
       "True"
      ]
     },
     "execution_count": 11,
     "metadata": {},
     "output_type": "execute_result"
    }
   ],
   "source": [
    "#Q3. Write a program to check if two strings are a rotation of each other?\n",
    "def rotation(str1, str2):\n",
    "    if len(str1) != len(str2):\n",
    "        return False\n",
    "    temp = str1 \n",
    "    if temp.count(str2)> 0:\n",
    "        return True\n",
    "    return False\n",
    "str1 = \"ABCD\"\n",
    "str2 = \"ABCD\"\n",
    "rotation(str1,str2)\n"
   ]
  },
  {
   "cell_type": "code",
   "execution_count": 12,
   "id": "50d95e85",
   "metadata": {},
   "outputs": [
    {
     "data": {
      "text/plain": [
       "'S'"
      ]
     },
     "execution_count": 12,
     "metadata": {},
     "output_type": "execute_result"
    }
   ],
   "source": [
    "# Q4. Write a program to print the first non-repeated character from a string?\n",
    "def non_repeated_Char(str1):\n",
    "    char_order = []\n",
    "    counts = {}\n",
    "    for i in str1:\n",
    "        if i in counts:\n",
    "            counts[i] += 1\n",
    "        else:\n",
    "            counts[i] = 1\n",
    "            char_order.append(i)\n",
    "    for c in char_order:\n",
    "        if counts[c] == 1:\n",
    "            return c\n",
    "    return None\n",
    "non_repeated_Char('ADADSFGDHDHGQW')"
   ]
  },
  {
   "cell_type": "code",
   "execution_count": 13,
   "id": "b53dd084",
   "metadata": {},
   "outputs": [
    {
     "name": "stdout",
     "output_type": "stream",
     "text": [
      "Move disk 1 from rod A to rod B\n",
      "Move disk 2 from rod A to rod C\n",
      "Move disk 1 from rod B to rod C\n"
     ]
    }
   ],
   "source": [
    "# Q5. Read about the Tower of Hanoi algorithm. Write a program to implement it.\n",
    "def TowerOfHanoi(n , from_rod, to_rod, aux_rod):\n",
    "    if n == 1:\n",
    "        print(\"Move disk 1 from rod\",from_rod,\"to rod\",to_rod)\n",
    "        return\n",
    "    TowerOfHanoi(n-1, from_rod, aux_rod, to_rod)\n",
    "    print(\"Move disk\",n,\"from rod\",from_rod,\"to rod\",to_rod)\n",
    "    TowerOfHanoi(n-1, aux_rod, to_rod, from_rod)\n",
    "n = 2\n",
    "TowerOfHanoi(n, 'A', 'C', 'B')"
   ]
  },
  {
   "cell_type": "code",
   "execution_count": 14,
   "id": "e35dd270",
   "metadata": {},
   "outputs": [
    {
     "data": {
      "text/plain": [
       "'((A-(B/C))*((A/K)-L))'"
      ]
     },
     "execution_count": 14,
     "metadata": {},
     "output_type": "execute_result"
    }
   ],
   "source": [
    "# Q6. Read about infix, prefix, and postfix expressions. Write a program to convert postfix to prefix expression.\n",
    "\n",
    "\n",
    "\n",
    "def operator(x):\n",
    "    if x == \"+\":\n",
    "        return True\n",
    "    if x == \"-\":\n",
    "        return True\n",
    "    if x == \"*\":\n",
    "        return True\n",
    "    if x == \"/\":\n",
    "        return True\n",
    "    return False\n",
    "\n",
    "def prefix_to_infix(exp):\n",
    "    list1 = []\n",
    "    i = (len(exp)-1)\n",
    "    while  i >=0:\n",
    "        if not operator(exp[i]):\n",
    "            list1.append(exp[i])\n",
    "            i -= 1\n",
    "        else:\n",
    "            str1 = \"(\" + list1.pop() + exp[i] + list1.pop() + \")\"\n",
    "            list1.append(str1)\n",
    "            i -= 1\n",
    "    return list1.pop()\n",
    "prefix = \"*-A/BC-/AKL\"\n",
    "prefix_to_infix(prefix)"
   ]
  },
  {
   "cell_type": "code",
   "execution_count": 20,
   "id": "ee81b8c4",
   "metadata": {},
   "outputs": [
    {
     "data": {
      "text/plain": [
       "'((A-(B/C))*((A/K)-L))'"
      ]
     },
     "execution_count": 20,
     "metadata": {},
     "output_type": "execute_result"
    }
   ],
   "source": [
    "# Q7. Write a program to convert prefix expression to infix expression.\n",
    "def operator(x):\n",
    "    if x == \"+\":\n",
    "        return True\n",
    "    if x == \"-\":\n",
    "        return True\n",
    "    if x == \"*\":\n",
    "        return True\n",
    "    if x == \"/\":\n",
    "        return True\n",
    "    return False\n",
    "\n",
    "def prefix_to_infix(exp):\n",
    "    list1 = []\n",
    "    i = (len(exp)-1)\n",
    "    while  i >=0:\n",
    "        if not operator(exp[i]):\n",
    "            list1.append(exp[i])\n",
    "            i -= 1\n",
    "        else:\n",
    "            str1 = \"(\" + list1.pop() + exp[i] + list1.pop() + \")\"\n",
    "            list1.append(str1)\n",
    "            i -= 1\n",
    "    return list1.pop()\n",
    "\n",
    "prefix = \"*-A/BC-/AKL\"\n",
    "prefix_to_infix(prefix)\n"
   ]
  },
  {
   "cell_type": "code",
   "execution_count": 15,
   "id": "bfe9eb6f",
   "metadata": {},
   "outputs": [
    {
     "name": "stdout",
     "output_type": "stream",
     "text": [
      "[ERROR] : string not proper\n"
     ]
    }
   ],
   "source": [
    "# Q8. Write a program to check if all the brackets are closed in a given code snippet.\n",
    "def check(str):\n",
    "\n",
    "    stack = []\n",
    "\n",
    "    for c in str:\n",
    "\n",
    "        if c in [\"{\", \"(\", \"[\"]:\n",
    "\n",
    "            stack.append(c)\n",
    "\n",
    "        else:\n",
    "            if stack.is_empty():\n",
    "\n",
    "                print(\"[ERROR] : string not proper\")\n",
    "\n",
    "                return\n",
    "\n",
    "        c_from_stack = stack.pop()\n",
    "\n",
    "        if c_from_stack == \"{\" and c != \"}\":\n",
    "\n",
    "            print(\"[ERROR] : string not proper\")\n",
    "\n",
    "            return\n",
    "\n",
    "        if c_from_stack == \"[\" and c != \"]\":\n",
    "\n",
    "            print(\"[ERROR] : string not proper\")\n",
    "\n",
    "            return\n",
    "\n",
    "        if c_from_stack == \"(\" and c != \")\":\n",
    "\n",
    "            print(\"[ERROR] : string not proper\")\n",
    "\n",
    "            return\n",
    "\n",
    "        if not stack.is_empty():\n",
    "\n",
    "            print(\"[ERROR] : string not proper\")\n",
    "\n",
    "        print(\"All Good !!!\")\n",
    "        \n",
    "    if stack:\n",
    "        return False\n",
    "    return True\n",
    "    \n",
    "check('{{[([{}])]')"
   ]
  },
  {
   "cell_type": "code",
   "execution_count": 16,
   "id": "e0004d79",
   "metadata": {},
   "outputs": [
    {
     "name": "stdout",
     "output_type": "stream",
     "text": [
      "Original Stack \n",
      "1 2 3 4 \n",
      "Reversed Stack \n",
      "4 3 2 1 \n"
     ]
    }
   ],
   "source": [
    "# Q9. Write a program to reverse a stack.\n",
    "def insertAtBottom(stack, item):\n",
    "    if isEmpty(stack):\n",
    "        push(stack, item)\n",
    "    else:\n",
    "        temp = pop(stack)\n",
    "        insertAtBottom(stack, item)\n",
    "        push(stack, temp)\n",
    "\n",
    "\n",
    "def reverse(stack):\n",
    "    if not isEmpty(stack):\n",
    "        temp = pop(stack)\n",
    "        reverse(stack)\n",
    "        insertAtBottom(stack, temp)\n",
    "\n",
    "\n",
    "def createStack():\n",
    "    stack = []\n",
    "    return stack\n",
    "\n",
    "def isEmpty( stack ):\n",
    "    return len(stack) == 0\n",
    "\n",
    "\n",
    "def push( stack, item ):\n",
    "    stack.append( item )\n",
    "\n",
    "\n",
    "def pop( stack ):\n",
    "\n",
    "\n",
    "    if(isEmpty( stack )):\n",
    "        print(\"Stack Underflow \")\n",
    "        exit(1)\n",
    "\n",
    "    return stack.pop()\n",
    "\n",
    "\n",
    "def prints(stack):\n",
    "    for i in range(len(stack)-1, -1, -1):\n",
    "        print(stack[i], end = ' ')\n",
    "    print()\n",
    "\n",
    "\n",
    "stack = createStack()\n",
    "push( stack, str(4) )\n",
    "push( stack, str(3) )\n",
    "push( stack, str(2) )\n",
    "push( stack, str(1) )\n",
    "print(\"Original Stack \")\n",
    "prints(stack)\n",
    "\n",
    "reverse(stack)\n",
    "\n",
    "print(\"Reversed Stack \")\n",
    "prints(stack)\n"
   ]
  },
  {
   "cell_type": "code",
   "execution_count": 17,
   "id": "b4439836",
   "metadata": {},
   "outputs": [
    {
     "data": {
      "text/plain": [
       "3"
      ]
     },
     "execution_count": 17,
     "metadata": {},
     "output_type": "execute_result"
    }
   ],
   "source": [
    "# Q10. Write a program to find the smallest number using a stack.\n",
    "from collections import deque\n",
    "\n",
    "class MinStack:\n",
    "    def __init__(self):\n",
    "        self.s = deque()\n",
    "        self.min = None\n",
    "    def push(self, x):\n",
    "        if not self.s:\n",
    "            self.s.append(x)\n",
    "            self.min = x\n",
    "        elif x > self.min:\n",
    "            self.s.append(x)\n",
    "        else:\n",
    "            self.s.append(2*x - self.min)\n",
    "            self.min = x\n",
    "    def pop(self):\n",
    "        if not self.s:\n",
    "            self.print(\"Stack underflow!!\")\n",
    "        top = self.s[-1]\n",
    "        if top < self.min:\n",
    "            self.min = 2*self.min - top\n",
    "        self.s.pop()\n",
    "    def minimum(self):\n",
    "        output = self.min\n",
    "        return output\n",
    "\n",
    "\n",
    "s = MinStack()\n",
    "s.push(6)\n",
    "s.push(7)\n",
    "s.push(5)\n",
    "s.push(8)\n",
    "s.push(3)\n",
    "s.minimum()\n"
   ]
  },
  {
   "cell_type": "code",
   "execution_count": null,
   "id": "8851fe4b",
   "metadata": {},
   "outputs": [],
   "source": []
  }
 ],
 "metadata": {
  "kernelspec": {
   "display_name": "Python 3 (ipykernel)",
   "language": "python",
   "name": "python3"
  },
  "language_info": {
   "codemirror_mode": {
    "name": "ipython",
    "version": 3
   },
   "file_extension": ".py",
   "mimetype": "text/x-python",
   "name": "python",
   "nbconvert_exporter": "python",
   "pygments_lexer": "ipython3",
   "version": "3.10.2"
  }
 },
 "nbformat": 4,
 "nbformat_minor": 5
}
